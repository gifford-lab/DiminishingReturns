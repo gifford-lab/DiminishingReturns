{
 "cells": [
  {
   "cell_type": "code",
   "execution_count": 1,
   "metadata": {},
   "outputs": [],
   "source": [
    "import numpy as np\n",
    "import os\n",
    "from matplotlib import pyplot as plt\n",
    "from scipy import stats\n",
    "\n",
    "from tqdm import tqdm\n",
    "import pickle"
   ]
  },
  {
   "cell_type": "code",
   "execution_count": 2,
   "metadata": {},
   "outputs": [],
   "source": [
    "s = \"\"\"HLA-A02:02\n",
    "HLA-A02:05\n",
    "HLA-A02:06\n",
    "HLA-A02:11\n",
    "HLA-A11:01\n",
    "HLA-A23:01\n",
    "HLA-A25:01\n",
    "HLA-A26:01\n",
    "HLA-A30:01\n",
    "HLA-A30:02\n",
    "HLA-A32:01\n",
    "HLA-A33:01\n",
    "HLA-A66:01\n",
    "HLA-A68:01\n",
    "HLA-B07:02\n",
    "HLA-B08:01\n",
    "HLA-B14:02\n",
    "HLA-B15:01\n",
    "HLA-B15:02\n",
    "HLA-B15:03\n",
    "HLA-B15:17\n",
    "HLA-B18:01\n",
    "HLA-B35:03\n",
    "HLA-B37:01\n",
    "HLA-B38:01\n",
    "HLA-B40:01\n",
    "HLA-B40:02\n",
    "HLA-B45:01\n",
    "HLA-B46:01\n",
    "HLA-B53:01\n",
    "HLA-B58:01\n",
    "HLA-C03:03\n",
    "HLA-C05:01\n",
    "HLA-C07:02\n",
    "HLA-C08:02\n",
    "HLA-C12:03\"\"\""
   ]
  },
  {
   "cell_type": "code",
   "execution_count": 3,
   "metadata": {},
   "outputs": [],
   "source": [
    "truthval = {}\n",
    "for x in s.split('\\n'):\n",
    "    dic = {}\n",
    "    with open(\"./data/{}\".format(x), 'rt') as fin:\n",
    "        for line in fin:\n",
    "            line = line.rstrip('\\n').split(' ')\n",
    "            dic[line[0]] = int(line[1])\n",
    "    truthval[x] = dic\n",
    "    \n",
    "def readFile(fname, dic):\n",
    "    target = []\n",
    "    pred = []\n",
    "    with open(fname, 'rt') as fin:\n",
    "        for i, line in enumerate(fin):\n",
    "            if i < 49:\n",
    "                #print (line)\n",
    "                continue\n",
    "            if line[0] == '-':\n",
    "                #print(line)\n",
    "                break\n",
    "            line = line.rstrip('\\n').split()\n",
    "            seq = line[2]\n",
    "            #score = float(line[12]) #Rank EL\n",
    "            score = float(line[11]) #Score EL\n",
    "            \n",
    "            target.append(dic[seq])\n",
    "            pred.append(score)\n",
    "    return np.array(target), np.array(pred)\n",
    "         \n",
    "preds = []\n",
    "targets = []\n",
    "for x in s.split('\\n'):\n",
    "    xs,ys = readFile(\"./out/{}.out\".format(x), truthval[x])\n",
    "    preds.append(ys)\n",
    "    targets.append(xs)\n",
    "    \n",
    "preds = np.concatenate(preds)\n",
    "targets = np.concatenate(targets)"
   ]
  },
  {
   "cell_type": "code",
   "execution_count": 4,
   "metadata": {},
   "outputs": [
    {
     "data": {
      "text/plain": [
       "(10.032274860890919, 0.05041344151201467)"
      ]
     },
     "execution_count": 4,
     "metadata": {},
     "output_type": "execute_result"
    }
   ],
   "source": [
    "fracPositive = np.sum(targets) / np.sum(1-targets)\n",
    "negWeight = fracPositive * 199\n",
    "negWeight, fracPositive"
   ]
  },
  {
   "cell_type": "code",
   "execution_count": 5,
   "metadata": {},
   "outputs": [
    {
     "data": {
      "text/plain": [
       "(0.005025125628140706, 0.005025125628140704)"
      ]
     },
     "execution_count": 5,
     "metadata": {},
     "output_type": "execute_result"
    }
   ],
   "source": [
    "weights = (targets == 1) + ((targets == 0)*negWeight)\n",
    "np.sum( ( weights*(targets == 1) ) )/np.sum( ( weights*(targets == 0) ) ), 1/199"
   ]
  },
  {
   "cell_type": "code",
   "execution_count": 6,
   "metadata": {},
   "outputs": [],
   "source": [
    "perm = np.random.permutation(preds.size)\n",
    "perm2 = np.argsort(preds[perm])"
   ]
  },
  {
   "cell_type": "code",
   "execution_count": 7,
   "metadata": {},
   "outputs": [],
   "source": [
    "alldata = [x[perm][perm2] for x in (preds, targets, weights)]"
   ]
  },
  {
   "cell_type": "code",
   "execution_count": 8,
   "metadata": {},
   "outputs": [],
   "source": [
    "with open(\"./GenerateData/alldata.pkl\", 'rb') as fin:\n",
    "    ad1, ad2 = pickle.load(fin)"
   ]
  },
  {
   "cell_type": "code",
   "execution_count": 9,
   "metadata": {},
   "outputs": [
    {
     "data": {
      "text/plain": [
       "(946141, 946141, 946141)"
      ]
     },
     "execution_count": 9,
     "metadata": {},
     "output_type": "execute_result"
    }
   ],
   "source": [
    "len(alldata[0]), len(alldata[1]), len(alldata[2])"
   ]
  },
  {
   "cell_type": "code",
   "execution_count": 13,
   "metadata": {},
   "outputs": [
    {
     "data": {
      "text/plain": [
       "([array([0.      , 0.      , 0.      , ..., 0.997849, 0.99807 , 0.998239]),\n",
       "  array([0, 0, 0, ..., 0, 1, 0]),\n",
       "  array([0.0002956 , 0.00332226, 0.00034165, ..., 0.00167504, 0.00502513,\n",
       "         0.00029533])],\n",
       " array([10.03227486, 10.03227486, 10.03227486, ...,  1.        ,\n",
       "         1.        ,  1.        ]))"
      ]
     },
     "execution_count": 13,
     "metadata": {},
     "output_type": "execute_result"
    }
   ],
   "source": [
    "ad1, alldata[2]"
   ]
  },
  {
   "cell_type": "code",
   "execution_count": 15,
   "metadata": {},
   "outputs": [],
   "source": [
    "#mhc1 good, mhc1 synth, mhc2 synth\n",
    "with open(\"./alldata_3_sources.pkl\", 'wb') as fout:\n",
    "    pickle.dump((alldata, ad1, ad2), fout)"
   ]
  }
 ],
 "metadata": {
  "kernelspec": {
   "display_name": "Python 3 (ipykernel)",
   "language": "python",
   "name": "python3"
  },
  "language_info": {
   "codemirror_mode": {
    "name": "ipython",
    "version": 3
   },
   "file_extension": ".py",
   "mimetype": "text/x-python",
   "name": "python",
   "nbconvert_exporter": "python",
   "pygments_lexer": "ipython3",
   "version": "3.10.10"
  }
 },
 "nbformat": 4,
 "nbformat_minor": 2
}
