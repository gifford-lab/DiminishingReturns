{
 "cells": [
  {
   "cell_type": "code",
   "execution_count": 1,
   "id": "21b8f363",
   "metadata": {},
   "outputs": [],
   "source": [
    "import os\n",
    "import pickle\n",
    "import numpy as np\n",
    "import pandas as pd\n",
    "from tqdm import tqdm\n",
    "import random\n",
    "import gzip\n",
    "\n",
    "from copy import deepcopy\n",
    "\n",
    "from matplotlib import pyplot as plt"
   ]
  },
  {
   "cell_type": "code",
   "execution_count": 39,
   "id": "0a4e8351",
   "metadata": {},
   "outputs": [],
   "source": [
    "with open(\"./isotonic_calibration.pkl\", 'rb') as fin:\n",
    "    curve1, curve2 = pickle.load(fin)\n",
    "#curve1 is the MHC1 curve\n",
    "#curve2 is the MHC2 curve"
   ]
  },
  {
   "cell_type": "code",
   "execution_count": 37,
   "id": "c06cf776",
   "metadata": {},
   "outputs": [],
   "source": [
    "def toProb(x, curve):\n",
    "    return curve[1][ np.searchsorted(curve[0], x, side='right') ]"
   ]
  },
  {
   "cell_type": "code",
   "execution_count": 38,
   "id": "0d176070",
   "metadata": {},
   "outputs": [
    {
     "data": {
      "text/plain": [
       "(array([[0.11813709, 0.74988706, 0.66269501, ..., 0.9836719 , 0.89859716,\n",
       "         0.71838473],\n",
       "        [0.47127154, 0.42959105, 0.17102355, ..., 0.85217018, 0.90994899,\n",
       "         0.02747335],\n",
       "        [0.23146027, 0.24144642, 0.3234146 , ..., 0.75908871, 0.20534459,\n",
       "         0.06117108],\n",
       "        ...,\n",
       "        [0.84606456, 0.53148835, 0.38643749, ..., 0.02199463, 0.42089088,\n",
       "         0.67205352],\n",
       "        [0.21697542, 0.1103477 , 0.12680797, ..., 0.5028989 , 0.56286344,\n",
       "         0.04833197],\n",
       "        [0.71833415, 0.1935154 , 0.19331179, ..., 0.77902346, 0.63481002,\n",
       "         0.21596753]]),\n",
       " array([[0.02780532, 0.24503413, 0.19847786, ..., 0.51496631, 0.27503154,\n",
       "         0.19847786],\n",
       "        [0.11023293, 0.11023293, 0.04325285, ..., 0.25991014, 0.27503154,\n",
       "         0.01031637],\n",
       "        [0.05982868, 0.05982868, 0.05982868, ..., 0.24503413, 0.04325285,\n",
       "         0.01778633],\n",
       "        ...,\n",
       "        [0.25991014, 0.12753102, 0.08724393, ..., 0.00780005, 0.11023293,\n",
       "         0.19847786],\n",
       "        [0.05904713, 0.02780532, 0.02794782, ..., 0.11023293, 0.12753102,\n",
       "         0.01444388],\n",
       "        [0.19847786, 0.04325285, 0.04325285, ..., 0.24503413, 0.18181579,\n",
       "         0.05904713]]))"
      ]
     },
     "execution_count": 38,
     "metadata": {},
     "output_type": "execute_result"
    }
   ],
   "source": [
    "z = np.random.uniform(0,1,(50,50))\n",
    "z, toProb(z, curve1)"
   ]
  },
  {
   "cell_type": "code",
   "execution_count": null,
   "id": "b8bb93af",
   "metadata": {},
   "outputs": [],
   "source": []
  }
 ],
 "metadata": {
  "kernelspec": {
   "display_name": "Python [conda env:root]",
   "language": "python",
   "name": "conda-root-py"
  },
  "language_info": {
   "codemirror_mode": {
    "name": "ipython",
    "version": 3
   },
   "file_extension": ".py",
   "mimetype": "text/x-python",
   "name": "python",
   "nbconvert_exporter": "python",
   "pygments_lexer": "ipython3",
   "version": "3.7.3"
  }
 },
 "nbformat": 4,
 "nbformat_minor": 5
}
