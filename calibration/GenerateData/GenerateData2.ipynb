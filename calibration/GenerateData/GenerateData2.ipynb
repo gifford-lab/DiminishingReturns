{
 "cells": [
  {
   "cell_type": "code",
   "execution_count": 1,
   "metadata": {},
   "outputs": [],
   "source": [
    "import numpy as np\n",
    "import os\n",
    "from matplotlib import pyplot as plt\n",
    "from scipy import stats\n",
    "import pickle\n",
    "\n",
    "from tqdm import tqdm"
   ]
  },
  {
   "cell_type": "code",
   "execution_count": 2,
   "metadata": {},
   "outputs": [],
   "source": [
    "with open(\"./data.pkl\", 'rb') as fin:\n",
    "    m1, m2 = pickle.load(fin)"
   ]
  },
  {
   "cell_type": "code",
   "execution_count": 16,
   "metadata": {},
   "outputs": [
    {
     "name": "stdout",
     "output_type": "stream",
     "text": [
      "HLA-A02:01 603750\n",
      "HLA-B40:02 18775\n",
      "HLA-B07:02 191598\n",
      "HLA-B08:01 44955\n",
      "HLA-A24:02 129439\n",
      "HLA-B44:02 20152\n",
      "HLA-B44:03 9721\n",
      "HLA-B40:01 21374\n",
      "HLA-A11:01 71551\n",
      "HLA-B35:01 61068\n",
      "HLA-A01:01 93770\n",
      "HLA-A03:01 41782\n",
      "HLA-B35:03 14010\n",
      "HLA-B53:01 21160\n",
      "HLA-B51:01 26647\n",
      "HLA-B58:01 36384\n",
      "HLA-B18:01 8060\n",
      "HLA-B15:02 1829\n",
      "HLA-B15:01 11532\n",
      "HLA-A30:02 3879\n",
      "HLA-B57:01 29676\n",
      "HLA-A68:02 9851\n",
      "HLA-B27:05 18149\n",
      "HLA-A25:01 10628\n",
      "HLA-A30:01 2566\n",
      "HLA-A02:06 2347\n",
      "HLA-C06:02 10281\n",
      "HLA-A68:01 15411\n",
      "HLA-B37:01 11310\n",
      "HLA-A32:01 18165\n",
      "HLA-B45:01 1354\n",
      "HLA-B14:02 3948\n",
      "HLA-A26:01 7223\n",
      "HLA-C05:01 1584\n",
      "HLA-A23:01 4786\n",
      "HLA-A29:02 24563\n",
      "HLA-B38:01 7215\n",
      "HLA-A02:05 10374\n",
      "HLA-A02:11 421\n",
      "HLA-B39:01 468\n",
      "HLA-C03:03 5644\n",
      "HLA-C07:02 3024\n",
      "HLA-A02:17 473\n",
      "HLA-A02:03 731\n",
      "HLA-B46:01 2610\n",
      "HLA-A31:01 2983\n",
      "HLA-B39:06 380\n",
      "HLA-A24:03 230\n",
      "HLA-A33:01 3387\n",
      "HLA-B08:02 1131\n",
      "HLA-B15:03 1767\n",
      "HLA-A02:02 1872\n"
     ]
    }
   ],
   "source": [
    "for k in m1[0]:\n",
    "    ls = m1[0][k]\n",
    "    print (k, len(ls))\n",
    "    with open(\"./mhc1/{}\".format(k), 'wt') as fout:\n",
    "        fout.write('\\n'.join(ls))"
   ]
  },
  {
   "cell_type": "code",
   "execution_count": 17,
   "metadata": {},
   "outputs": [
    {
     "name": "stdout",
     "output_type": "stream",
     "text": [
      "DRB1_0101 262550\n",
      "DRB1_0301 93777\n",
      "DRB1_0401 196672\n",
      "DRB5_0101 72286\n",
      "DRB1_1104 30146\n",
      "DRB1_1501 88942\n",
      "DRB1_1301 5069\n",
      "DRB1_0405 586\n",
      "DRB1_0701 131991\n",
      "DRB1_1001 7793\n",
      "DRB1_1101 161318\n",
      "DRB3_0202 1547\n",
      "DRB1_0404 102024\n",
      "DRB3_0101 8200\n",
      "HLA-DPA10103-DPB10401 3369\n",
      "DRB1_0801 7698\n",
      "DRB1_0103 22513\n",
      "DRB1_1201 390\n",
      "DRB1_0102 644\n",
      "DRB4_0101 4044\n"
     ]
    }
   ],
   "source": [
    "for k in m2[0]:\n",
    "    ls = m2[0][k]\n",
    "    print (k, len(ls))\n",
    "    with open(\"./mhc2/{}\".format(k), 'wt') as fout:\n",
    "        fout.write('\\n'.join(ls))"
   ]
  },
  {
   "cell_type": "code",
   "execution_count": null,
   "metadata": {},
   "outputs": [],
   "source": []
  }
 ],
 "metadata": {
  "kernelspec": {
   "display_name": "Python 3 (ipykernel)",
   "language": "python",
   "name": "python3"
  },
  "language_info": {
   "codemirror_mode": {
    "name": "ipython",
    "version": 3
   },
   "file_extension": ".py",
   "mimetype": "text/x-python",
   "name": "python",
   "nbconvert_exporter": "python",
   "pygments_lexer": "ipython3",
   "version": "3.10.10"
  }
 },
 "nbformat": 4,
 "nbformat_minor": 2
}
