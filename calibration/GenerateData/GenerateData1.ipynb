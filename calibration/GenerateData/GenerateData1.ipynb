{
 "cells": [
  {
   "cell_type": "code",
   "execution_count": 1,
   "metadata": {},
   "outputs": [],
   "source": [
    "import numpy as np\n",
    "import os\n",
    "from matplotlib import pyplot as plt\n",
    "from scipy import stats\n",
    "import pickle\n",
    "\n",
    "from tqdm import tqdm"
   ]
  },
  {
   "cell_type": "code",
   "execution_count": 2,
   "metadata": {},
   "outputs": [
    {
     "name": "stderr",
     "output_type": "stream",
     "text": [
      "3320it [00:00, 6988.88it/s]\n",
      "1834it [00:00, 7020.71it/s]\n"
     ]
    }
   ],
   "source": [
    "def getKmer(segs, l):\n",
    "    chopped = []\n",
    "    for seg in segs:\n",
    "        for i in range(len(seg)-l+1):\n",
    "            chopped.append(seg[i:i+l])\n",
    "    return list(set(chopped))\n",
    "\n",
    "def sanity(fname, posweight):\n",
    "    samples = {}\n",
    "    weights = {}\n",
    "    with open(fname, 'rt') as fin:\n",
    "        for i, line in tqdm(enumerate(fin)):\n",
    "            line = line.rstrip('\\n')\n",
    "            if i%2 == 0:\n",
    "                seq, allele = line.split(' ')[:2]\n",
    "                seq = seq[1:]\n",
    "                if allele not in samples:\n",
    "                    samples[allele] = []\n",
    "                    weights[allele] = []\n",
    "            else:\n",
    "                segs = []\n",
    "                i = line.find(seq)\n",
    "                while i != -1:\n",
    "                    segs.append(line[:i])\n",
    "                    line = line[i+len(seq):]\n",
    "                    i = line.find(seq)\n",
    "                segs.append(line)\n",
    "                negkmer = getKmer(segs, len(seq))\n",
    "                if len(negkmer) == 0:\n",
    "                    print (\"No negatives\", len(negkmer), seq, allele)\n",
    "                    return\n",
    "    return\n",
    "        \n",
    "sanity(\"./mhc1.fsa\", 1/199)\n",
    "sanity(\"./mhc2.fsa\", 1/49)"
   ]
  },
  {
   "cell_type": "code",
   "execution_count": 3,
   "metadata": {},
   "outputs": [
    {
     "name": "stderr",
     "output_type": "stream",
     "text": [
      "3320it [00:01, 3225.22it/s]\n",
      "224it [00:00, 2205.62it/s]"
     ]
    },
    {
     "name": "stdout",
     "output_type": "stream",
     "text": [
      "1660 1645988\n"
     ]
    },
    {
     "name": "stderr",
     "output_type": "stream",
     "text": [
      "1834it [00:00, 2410.28it/s]"
     ]
    },
    {
     "name": "stdout",
     "output_type": "stream",
     "text": [
      "917 1201559\n"
     ]
    },
    {
     "name": "stderr",
     "output_type": "stream",
     "text": [
      "\n"
     ]
    }
   ],
   "source": [
    "def getKmer(segs, l):\n",
    "    chopped = []\n",
    "    for seg in segs:\n",
    "        for i in range(len(seg)-l+1):\n",
    "            chopped.append(seg[i:i+l])\n",
    "    return list(set(chopped))\n",
    "\n",
    "def getSamples(fname, posweight):\n",
    "    samples = {}\n",
    "    weights = {}\n",
    "    nsamp1 = 0\n",
    "    nsamp2 = 0\n",
    "    with open(fname, 'rt') as fin:\n",
    "        for i, line in tqdm(enumerate(fin)):\n",
    "            line = line.rstrip('\\n')\n",
    "            if i%2 == 0:\n",
    "                seq, allele = line.split(' ')[:2]\n",
    "                seq = seq[1:]\n",
    "                if allele not in samples:\n",
    "                    samples[allele] = []\n",
    "                    weights[allele] = []\n",
    "            else:\n",
    "                segs = []\n",
    "                i = line.find(seq)\n",
    "                while i != -1:\n",
    "                    segs.append(line[:i])\n",
    "                    line = line[i+len(seq):]\n",
    "                    i = line.find(seq)\n",
    "                segs.append(line)\n",
    "                negkmer = getKmer(segs, len(seq))\n",
    "                \n",
    "                nsamp1 += 1\n",
    "                nsamp2 += (1 + len(negkmer))\n",
    "                \n",
    "                samples[allele].append(seq)\n",
    "                weights[allele].append(posweight)\n",
    "                for nseq in negkmer:\n",
    "                    samples[allele].append(nseq)\n",
    "                    weights[allele].append(1/len(negkmer))\n",
    "    print (nsamp1, nsamp2)\n",
    "    return samples, weights\n",
    "        \n",
    "m1 = getSamples(\"./mhc1.fsa\", 1/199)\n",
    "m2 = getSamples(\"./mhc2.fsa\", 1/49)"
   ]
  },
  {
   "cell_type": "code",
   "execution_count": 23,
   "metadata": {},
   "outputs": [],
   "source": [
    "with open(\"./data.pkl\", 'wb') as fout:\n",
    "    pickle.dump((m1,m2), fout)"
   ]
  },
  {
   "cell_type": "code",
   "execution_count": 8,
   "metadata": {},
   "outputs": [
    {
     "name": "stderr",
     "output_type": "stream",
     "text": [
      "3320it [00:01, 2604.86it/s]\n",
      "1834it [00:00, 2091.28it/s]\n"
     ]
    }
   ],
   "source": [
    "def getKmer(segs, l):\n",
    "    chopped = []\n",
    "    for seg in segs:\n",
    "        for i in range(len(seg)-l+1):\n",
    "            kmer = seg[i:i+l]\n",
    "            if 'X' in kmer: continue\n",
    "            chopped.append(kmer)\n",
    "    return list(set(chopped))\n",
    "\n",
    "def getSamplesWithScores(fname, posweight):\n",
    "    samples = {}\n",
    "    weights = {}\n",
    "    scores = {}\n",
    "    with open(fname, 'rt') as fin:\n",
    "        for i, line in tqdm(enumerate(fin)):\n",
    "            line = line.rstrip('\\n')\n",
    "            if i%2 == 0:\n",
    "                seq, allele = line.split(' ')[:2]\n",
    "                seq = seq[1:]\n",
    "                if allele not in samples:\n",
    "                    samples[allele] = []\n",
    "                    weights[allele] = []\n",
    "                    scores[allele] = []\n",
    "            else:\n",
    "                segs = []\n",
    "                i = line.find(seq)\n",
    "                while i != -1:\n",
    "                    segs.append(line[:i])\n",
    "                    line = line[i+len(seq):]\n",
    "                    i = line.find(seq)\n",
    "                segs.append(line)\n",
    "                negkmer = getKmer(segs, len(seq))\n",
    "                \n",
    "                samples[allele].append(seq)\n",
    "                weights[allele].append(posweight)\n",
    "                scores[allele].append(1)\n",
    "                for nseq in negkmer:\n",
    "                    samples[allele].append(nseq)\n",
    "                    weights[allele].append(1/len(negkmer))\n",
    "                    scores[allele].append(0)\n",
    "    return samples, weights, scores\n",
    "        \n",
    "ms1 = getSamplesWithScores(\"./mhc1.fsa\", 1/199)\n",
    "ms2 = getSamplesWithScores(\"./mhc2.fsa\", 1/49)"
   ]
  },
  {
   "cell_type": "code",
   "execution_count": 9,
   "metadata": {},
   "outputs": [],
   "source": [
    "with open(\"./data_withScores.pkl\", 'wb') as fout:\n",
    "    pickle.dump((ms1,ms2), fout)"
   ]
  },
  {
   "cell_type": "code",
   "execution_count": null,
   "metadata": {},
   "outputs": [],
   "source": []
  }
 ],
 "metadata": {
  "kernelspec": {
   "display_name": "Python 3 (ipykernel)",
   "language": "python",
   "name": "python3"
  },
  "language_info": {
   "codemirror_mode": {
    "name": "ipython",
    "version": 3
   },
   "file_extension": ".py",
   "mimetype": "text/x-python",
   "name": "python",
   "nbconvert_exporter": "python",
   "pygments_lexer": "ipython3",
   "version": "3.10.10"
  }
 },
 "nbformat": 4,
 "nbformat_minor": 2
}
