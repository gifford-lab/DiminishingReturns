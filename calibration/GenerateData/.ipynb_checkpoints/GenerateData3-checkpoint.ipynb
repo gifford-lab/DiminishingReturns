{
 "cells": [
  {
   "cell_type": "code",
   "execution_count": 1,
   "metadata": {},
   "outputs": [],
   "source": [
    "import numpy as np\n",
    "import os\n",
    "from matplotlib import pyplot as plt\n",
    "from scipy import stats\n",
    "import pickle\n",
    "\n",
    "from tqdm import tqdm"
   ]
  },
  {
   "cell_type": "code",
   "execution_count": 2,
   "metadata": {},
   "outputs": [],
   "source": [
    "with open(\"./data_withScores.pkl\", 'rb') as fin:\n",
    "    m1, m2 = pickle.load(fin)"
   ]
  },
  {
   "cell_type": "code",
   "execution_count": 3,
   "metadata": {},
   "outputs": [
    {
     "name": "stderr",
     "output_type": "stream",
     "text": [
      "100%|██████████| 52/52 [00:02<00:00, 21.10it/s]\n"
     ]
    },
    {
     "data": {
      "text/plain": [
       "((1645459,), (1645459,), (1645459,))"
      ]
     },
     "execution_count": 3,
     "metadata": {},
     "output_type": "execute_result"
    }
   ],
   "source": [
    "def readFile(fname):\n",
    "    dic = {}\n",
    "    with open(fname, 'rt') as fin:\n",
    "        for i, line in enumerate(fin):\n",
    "            if i < 49:\n",
    "                continue\n",
    "            if line[0] == '-':\n",
    "                break\n",
    "            line = line.rstrip('\\n').split()\n",
    "            seq = line[2]\n",
    "            #score = float(line[12]) #rank EL\n",
    "            score = float(line[11]) #score EL\n",
    "            \n",
    "            dic[seq] = score\n",
    "    return dic\n",
    "\n",
    "pred1 = []\n",
    "truth1 = []\n",
    "weight1 = []\n",
    "for k in tqdm(m1[0], position = 0, leave = True):\n",
    "    d = readFile(\"./out/mhc1/{}.out\".format(k))\n",
    "    for seq, weight, truth in zip(m1[0][k], m1[1][k], m1[2][k]):\n",
    "        pred1.append(d[seq])\n",
    "        truth1.append(truth)\n",
    "        weight1.append(weight)\n",
    "        \n",
    "pred1, truth1, weight1 = [np.array(x) for x in (pred1, truth1, weight1)]\n",
    "pred1.shape, truth1.shape, weight1.shape"
   ]
  },
  {
   "cell_type": "code",
   "execution_count": 4,
   "metadata": {},
   "outputs": [
    {
     "name": "stderr",
     "output_type": "stream",
     "text": [
      "100%|██████████| 20/20 [00:01<00:00, 11.46it/s]\n"
     ]
    },
    {
     "data": {
      "text/plain": [
       "((1201559,), (1201559,), (1201559,))"
      ]
     },
     "execution_count": 4,
     "metadata": {},
     "output_type": "execute_result"
    }
   ],
   "source": [
    "def readFile2(fname):\n",
    "    dic = {}\n",
    "    with open(fname, 'rt') as fin:\n",
    "        for i, line in enumerate(fin):\n",
    "            if i < 13:\n",
    "                continue\n",
    "            if line[0] == '-':\n",
    "                break\n",
    "            line = line.rstrip('\\n').split()\n",
    "            seq = line[2]\n",
    "            #score = float(line[8]) #Rank EL\n",
    "            score = float(line[7]) #Score EL\n",
    "            \n",
    "            dic[seq] = score\n",
    "    return dic\n",
    "\n",
    "pred2 = []\n",
    "truth2 = []\n",
    "weight2 = []\n",
    "for k in tqdm(m2[0], position = 0, leave = True):\n",
    "    d = readFile2(\"./out/mhc2/{}.out\".format(k))\n",
    "    for seq, weight, truth in zip(m2[0][k], m2[1][k], m2[2][k]):\n",
    "        pred2.append(d[seq])\n",
    "        truth2.append(truth)\n",
    "        weight2.append(weight)\n",
    "        \n",
    "pred2, truth2, weight2 = [np.array(x) for x in (pred2, truth2, weight2)]\n",
    "pred2.shape, truth2.shape, weight2.shape"
   ]
  },
  {
   "cell_type": "code",
   "execution_count": 5,
   "metadata": {},
   "outputs": [],
   "source": [
    "perm1 = np.random.permutation(pred1.size)\n",
    "perm2 = np.random.permutation(pred2.size)"
   ]
  },
  {
   "cell_type": "code",
   "execution_count": 6,
   "metadata": {},
   "outputs": [],
   "source": [
    "perm1a = np.argsort( pred1[perm1] )\n",
    "perm2a = np.argsort( pred2[perm2] )"
   ]
  },
  {
   "cell_type": "code",
   "execution_count": 7,
   "metadata": {},
   "outputs": [],
   "source": [
    "c1 = [x[perm1][perm1a] for x in (pred1, truth1, weight1)]\n",
    "c2 = [x[perm2][perm2a] for x in (pred2, truth2, weight2)]"
   ]
  },
  {
   "cell_type": "code",
   "execution_count": 14,
   "metadata": {},
   "outputs": [
    {
     "data": {
      "text/plain": [
       "(array([8.8089e-02, 2.3200e-04, 1.9000e-05, ..., 2.6492e-02, 5.7200e-04,\n",
       "        1.2100e-04]),\n",
       " array([0.      , 0.      , 0.      , ..., 0.997849, 0.99807 , 0.998239]),\n",
       " array([1.00000e-06, 1.00000e-06, 1.00000e-06, ..., 9.93585e-01,\n",
       "        9.93585e-01, 9.95639e-01]),\n",
       " 1645459,\n",
       " 1201559)"
      ]
     },
     "execution_count": 14,
     "metadata": {},
     "output_type": "execute_result"
    }
   ],
   "source": [
    "pred1, c1[0], c2[0], len(c1[0]), len(c2[0])"
   ]
  },
  {
   "cell_type": "code",
   "execution_count": 8,
   "metadata": {},
   "outputs": [],
   "source": [
    "with open(\"./alldata.pkl\", 'wb') as fout:\n",
    "    pickle.dump((c1, c2), fout)"
   ]
  },
  {
   "cell_type": "code",
   "execution_count": null,
   "metadata": {},
   "outputs": [],
   "source": []
  }
 ],
 "metadata": {
  "kernelspec": {
   "display_name": "Python 3",
   "language": "python",
   "name": "python3"
  },
  "language_info": {
   "codemirror_mode": {
    "name": "ipython",
    "version": 3
   },
   "file_extension": ".py",
   "mimetype": "text/x-python",
   "name": "python",
   "nbconvert_exporter": "python",
   "pygments_lexer": "ipython3",
   "version": "3.7.3"
  }
 },
 "nbformat": 4,
 "nbformat_minor": 2
}
