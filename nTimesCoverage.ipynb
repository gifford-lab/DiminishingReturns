{
 "cells": [
  {
   "cell_type": "code",
   "execution_count": null,
   "metadata": {},
   "outputs": [],
   "source": [
    "# This notebook contains code that analyzes our designs using nTimesCoverage (Figure 4)"
   ]
  },
  {
   "cell_type": "code",
   "execution_count": 1,
   "metadata": {},
   "outputs": [],
   "source": [
    "import os\n",
    "import pickle\n",
    "import numpy as np\n",
    "import pandas as pd\n",
    "from tqdm import tqdm\n",
    "import random\n",
    "import gzip\n",
    "import math\n",
    "\n",
    "from copy import deepcopy\n",
    "from matplotlib import pyplot as plt\n",
    "import Levenshtein as lev\n",
    "\n",
    "import torch\n",
    "from torch.nn import parallel"
   ]
  },
  {
   "cell_type": "markdown",
   "metadata": {},
   "source": [
    "<h3>Import Data</h3>"
   ]
  },
  {
   "cell_type": "code",
   "execution_count": 2,
   "metadata": {},
   "outputs": [],
   "source": [
    "with open(\"./data.pkl\", 'rb') as fin:\n",
    "    mhc1_data, mhc2_data = pickle.load(fin)"
   ]
  },
  {
   "cell_type": "code",
   "execution_count": 3,
   "metadata": {},
   "outputs": [
    {
     "name": "stderr",
     "output_type": "stream",
     "text": [
      "779it [00:00, 1128.42it/s]\n",
      "1200it [00:01, 639.29it/s]\n",
      "440it [00:00, 4539.60it/s]\n",
      "333it [00:00, 2423.57it/s]"
     ]
    },
    {
     "name": "stdout",
     "output_type": "stream",
     "text": [
      "torch.Size([1100, 234])\n"
     ]
    },
    {
     "name": "stderr",
     "output_type": "stream",
     "text": [
      "537it [00:00, 2199.85it/s]\n",
      "920it [00:01, 890.77it/s] \n",
      "502it [00:00, 1232.79it/s]\n"
     ]
    },
    {
     "name": "stdout",
     "output_type": "stream",
     "text": [
      "torch.Size([4195, 281])\n"
     ]
    }
   ],
   "source": [
    "# Script for processing data\n",
    "\n",
    "def makeProductDistribution(population, dataset):\n",
    "    _,alleles,_ = dataset\n",
    "    intmap = {}\n",
    "    for i,allele in enumerate(alleles):\n",
    "        intmap[allele] = i\n",
    "    default = len(alleles)\n",
    "    population = [(frozenset([intmap.get(x[1], default) for x in genotype]),p) for genotype, p in population]\n",
    "    diploidDistribution = {}\n",
    "    for i,(haplotype1,p1) in tqdm(enumerate(population), position = 0, leave = True):\n",
    "        if haplotype1 not in diploidDistribution:\n",
    "            diploidDistribution[haplotype1] = 0\n",
    "        diploidDistribution[haplotype1] += p1 ** 2\n",
    "        for (haplotype2,p2) in population[:i]:\n",
    "            diplotype = haplotype1.union(haplotype2)\n",
    "            if diplotype not in diploidDistribution:\n",
    "                diploidDistribution[diplotype] = 0\n",
    "            diploidDistribution[diplotype] += 2 * p1 * p2\n",
    "    return diploidDistribution\n",
    "    \n",
    "def makeDiploidDistribution(populations, dataset):\n",
    "    default = len(dataset[1])\n",
    "    distributions = [makeProductDistribution(population, dataset) for population in populations]\n",
    "    for distribution in distributions[1:]:\n",
    "        for genotype in distribution:\n",
    "            if genotype not in distributions[0]:\n",
    "                distributions[0][genotype] = distribution[genotype]\n",
    "            else:\n",
    "                distributions[0][genotype] += distribution[genotype]\n",
    "    distribution = distributions[0]\n",
    "    indexes = []\n",
    "    weights = []\n",
    "    for genotype in distribution:\n",
    "        weights.append( distribution[genotype]/3 )\n",
    "        genotype = tuple(genotype)\n",
    "        if len(genotype) != 6:\n",
    "            genotype = genotype + ( (default,) * (6-len(genotype)) )\n",
    "        indexes.append(genotype)\n",
    "    indexes = np.array(indexes, dtype = np.int16)\n",
    "    weights = np.array(weights)\n",
    "    return indexes, weights\n",
    "    \n",
    "def reformatData(data):\n",
    "    _, binary_data, _, population = data\n",
    "    \n",
    "    binary_distribution = makeDiploidDistribution(population, binary_data)\n",
    "    binary_data = torch.tensor(binary_data[0], dtype = torch.float32).cuda(), binary_data[2],\\\n",
    "        binary_distribution[0], torch.tensor(binary_distribution[1], dtype = torch.float32).cuda()\n",
    "    \n",
    "    print (binary_data[0].size())\n",
    "    return binary_data\n",
    "\n",
    "inputs1_binarized = reformatData(mhc1_data)\n",
    "inputs2_binarized = reformatData(mhc2_data)"
   ]
  },
  {
   "cell_type": "markdown",
   "metadata": {},
   "source": [
    "<h3>Implementation of nTimesCoverage</h3>"
   ]
  },
  {
   "cell_type": "code",
   "execution_count": 4,
   "metadata": {},
   "outputs": [],
   "source": [
    "# Utility functions\n",
    "\n",
    "def dedupe_designs(seqs):\n",
    "    seen = set()\n",
    "    seqs2 = []\n",
    "    for seq in seqs:\n",
    "        if seq not in seen: seqs2.append(seq)\n",
    "        seen.add(seq)\n",
    "    return seqs2"
   ]
  },
  {
   "cell_type": "code",
   "execution_count": 5,
   "metadata": {},
   "outputs": [],
   "source": [
    "#candidates: [candidate, 1 - pMHC hit probability]\n",
    "#columnIndex: [diplotype, allele in diplotype]\n",
    "#columnWeights: [diplotype]\n",
    "#distributions: [dummy, diplotype, distribution]\n",
    "\n",
    "def nTimesCoverage(candidates, seqs, columnIndex, columnWeights, design, thresholds):\n",
    "    design = set(design)\n",
    "    designIndex = [i for i,seq in enumerate(seqs) if seq in design]\n",
    "    \n",
    "    candidates_in_design = candidates[designIndex, :]\n",
    "    numberOfHits = torch.sum( torch.sum(candidates_in_design[:, columnIndex], dim = 2).unsqueeze(2), dim = 0 )\n",
    "    passed = (numberOfHits >= thresholds.view(1,-1)).float()\n",
    "    return torch.sum( passed * columnWeights.view(-1,1), dim = 0 ).cpu().numpy()\n",
    "\n",
    "def nTimesCoverage_trajectory(candidates, seqs, columnIndex, columnWeights, design, thresholds):\n",
    "    design = dedupe_designs(design)\n",
    "    seqToIndex = {}\n",
    "    for i, seq in enumerate(seqs):\n",
    "        seqToIndex[seq] = i\n",
    "        \n",
    "    designIndex = [seqToIndex[seq] for seq in design]\n",
    "    candidates_in_design = candidates[designIndex, :]\n",
    "    numberOfHits = torch.cumsum( torch.sum(candidates_in_design[:, columnIndex], dim = 2).unsqueeze(2), dim = 0 )\n",
    "    stack = torch.stack([torch.sum((row >= thresholds.view(1,-1)).float() * columnWeights.view(-1,1), dim = 0)\n",
    "         for row in numberOfHits]).cpu().numpy()\n",
    "    return stack"
   ]
  },
  {
   "cell_type": "markdown",
   "metadata": {},
   "source": [
    "<h3>Analysis</h3>"
   ]
  },
  {
   "cell_type": "code",
   "execution_count": 6,
   "metadata": {},
   "outputs": [],
   "source": [
    "credence1 = []\n",
    "binarized1 = []\n",
    "credence2 = []\n",
    "binarized2 = []\n",
    "for threshold in range(1, 21):\n",
    "    with open(\"./outputs/mhc1_binarized_threshold_{}.pkl\".format(threshold), 'rb') as fin:\n",
    "        binarized1.append(pickle.load(fin))\n",
    "    with open(\"./outputs/mhc2_binarized_threshold_{}.pkl\".format(threshold), 'rb') as fin:\n",
    "        binarized2.append(pickle.load(fin))\n",
    "        \n",
    "with open(\"./benchmarks.pkl\", 'rb') as fin:\n",
    "    benchmark_trajectories, benchmark_designs = pickle.load(fin)"
   ]
  },
  {
   "cell_type": "code",
   "execution_count": 8,
   "metadata": {},
   "outputs": [],
   "source": [
    "threshold_20 = torch.tensor(np.arange(1,21,1)).cuda()"
   ]
  },
  {
   "cell_type": "code",
   "execution_count": 9,
   "metadata": {},
   "outputs": [
    {
     "name": "stderr",
     "output_type": "stream",
     "text": [
      "100%|██████████| 29/29 [00:00<00:00, 73.76it/s]\n",
      "100%|██████████| 8/8 [00:00<00:00, 50.67it/s]\n",
      "100%|██████████| 8/8 [00:00<00:00, 86.06it/s]\n",
      "100%|██████████| 101/101 [00:04<00:00, 22.65it/s]\n",
      "100%|██████████| 7/7 [00:00<00:00, 88.22it/s]\n",
      "100%|██████████| 7/7 [00:00<00:00, 54.30it/s]\n",
      "100%|██████████| 96/96 [00:01<00:00, 66.75it/s] \n",
      "20it [00:03,  4.86it/s]\n",
      "20it [00:01, 13.31it/s]\n"
     ]
    }
   ],
   "source": [
    "# Calculate nTimesCoverage over all benchmarks\n",
    "\n",
    "benchmark_designs_scores = {}\n",
    "for design in tqdm(benchmark_designs, position = 0, leave = True):\n",
    "    if \"MHC1\" in design:\n",
    "        data = inputs1_binarized\n",
    "    elif \"MHC2\" in design:\n",
    "        data = inputs2_binarized\n",
    "    else:\n",
    "        raise Exception(\"Unknown MHC Class\")\n",
    "    scores = nTimesCoverage(*data, benchmark_designs[design], threshold_20)\n",
    "    benchmark_designs_scores[design] = scores\n",
    "    \n",
    "benchmark_trajectories_scores = {}\n",
    "for design in benchmark_trajectories:\n",
    "    if \"MHC1\" in design:\n",
    "        data = inputs1_binarized\n",
    "    elif \"MHC2\" in design:\n",
    "        data = inputs2_binarized\n",
    "    else:\n",
    "        raise Exception(\"Unknown MHC Class\")\n",
    "        \n",
    "    trajectory = benchmark_trajectories[design]\n",
    "    trajectoryScores = {}\n",
    "    for designSize in tqdm(trajectory, position = 0, leave = True):\n",
    "        scores = nTimesCoverage(*data, trajectory[designSize], threshold_20)\n",
    "        trajectoryScores[designSize] = scores\n",
    "    benchmark_trajectories_scores[design] = trajectoryScores\n",
    "    \n",
    "# Calculate nTimesCoverage over our designs\n",
    "\n",
    "def getAllTrajectories(designs, data):\n",
    "    trajectories = [[] for j in range(20)]\n",
    "    with tqdm(position = 0, leave = True) as pbar:\n",
    "        for design_threshold, design in enumerate(designs, 1):\n",
    "            trajectories[design_threshold-1] = nTimesCoverage_trajectory(*data,design, threshold_20)\n",
    "            pbar.update(1)\n",
    "    return trajectories\n",
    "\n",
    "mhc1_design_scores = getAllTrajectories(binarized1, inputs1_binarized)\n",
    "mhc2_design_scores = getAllTrajectories(binarized2, inputs2_binarized)"
   ]
  },
  {
   "cell_type": "code",
   "execution_count": 10,
   "metadata": {},
   "outputs": [
    {
     "data": {
      "image/png": "[encoded data removed]",
      "text/plain": [
       "<Figure size 576x216 with 2 Axes>"
      ]
     },
     "metadata": {
      "needs_background": "light"
     },
     "output_type": "display_data"
    },
    {
     "data": {
      "image/png": "[encoded data removed]",
      "text/plain": [
       "<Figure size 576x216 with 2 Axes>"
      ]
     },
     "metadata": {
      "needs_background": "light"
     },
     "output_type": "display_data"
    }
   ],
   "source": [
    "# This block of code was used for generating Figure 4. For additional analysis, benchmark_designs_scores,\n",
    "# benchmark_trajectories_scores, mhc1_design_scores, and mhc2_design_scores contain all necessary data\n",
    "# from the experiment\n",
    "\n",
    "# benchmark_designs_scores is a dictionary that maps from a previous design (indicated by a string\n",
    "# denoting the source of the design and the MHC class it is for) to an nTimesCoverage array.\n",
    "# The ith entry (zero indexed) of the array contains the (i+1)-times coverage score.\n",
    "\n",
    "# benchmark_trajectories_scores is a dictionary of dictionaries. The first index indicates a design\n",
    "# strategy from Liu et al., while the second index indicates the size of the design. The value mapped\n",
    "# to by the keys is a an nTimesCoverage array.\n",
    "\n",
    "# mhc1_design_scores, and mhc2_design_scores are multidimensional lists. The entry in [i][j][k] denotes\n",
    "# the (k+1)-times coverage score of a design of size j+1 that was optimized via the diminishing returns framework\n",
    "# with the threshold function U(x) = min(i+1,x).\n",
    "\n",
    "def compare(optivax, diminishingReturns):\n",
    "    dr19 = []\n",
    "    for design in diminishingReturns:\n",
    "        if len(design) < 19:\n",
    "            dr19.append(design[-1])\n",
    "        else:\n",
    "            dr19.append(design[18].reshape(-1))\n",
    "            \n",
    "    _, axs = plt.subplots(1,2, figsize = (8,3))\n",
    "    for ax, optivax_design in zip(axs, optivax):\n",
    "        matr = np.array([(optivax_design < design) for design in dr19], dtype = np.float32)\n",
    "        matr = matr[:10, :]\n",
    "        ax.imshow(matr, cmap = \"gray\")\n",
    "        ax.set_yticks([])\n",
    "        ax.set_xticks(np.arange(0,20,1))\n",
    "        ax.set_xticklabels(np.arange(1,21,1), rotation = 90)\n",
    "        ax.set_xlabel(\"$\\geq n$ times coverage (EvalVax objective)\")\n",
    "        \n",
    "        ax.set_xticks(np.arange(-0.5, 20, 1), minor=True)\n",
    "        ax.set_yticks(np.arange(-0.5, 10, 1), minor=True)\n",
    "        ax.grid(which='minor', color='black', linestyle='-', linewidth=2, alpha = 0.1)\n",
    "        ax.tick_params(axis='x', which='minor', bottom=False)\n",
    "        ax.tick_params(axis='y', which='minor', left=False)\n",
    "        \n",
    "        ax.set_yticks(np.arange(0,10,1))\n",
    "        ax.set_yticklabels(np.arange(1,11,1), rotation = 0)\n",
    "    axs[0].set_ylabel(\"Utility threshold\\n(Design parameter)\")\n",
    "    axs[0].set_title(\"ILP\")\n",
    "    axs[1].set_title(\"MarginalGreedy\")\n",
    "\n",
    "optivax1 = benchmark_trajectories_scores[\"ILP_n3_MHC1\"][19], benchmark_trajectories_scores[\"MarginalGreedy_MHC1\"][19]\n",
    "optivax2 = benchmark_trajectories_scores[\"ILP_n3_MHC2\"][19], benchmark_trajectories_scores[\"MarginalGreedy_MHC2\"][19]\n",
    "compare(optivax1, mhc1_design_scores)\n",
    "compare(optivax2, mhc2_design_scores)"
   ]
  },
  {
   "cell_type": "code",
   "execution_count": null,
   "metadata": {},
   "outputs": [],
   "source": []
  }
 ],
 "metadata": {
  "kernelspec": {
   "display_name": "Python 3",
   "language": "python",
   "name": "python3"
  },
  "language_info": {
   "codemirror_mode": {
    "name": "ipython",
    "version": 3
   },
   "file_extension": ".py",
   "mimetype": "text/x-python",
   "name": "python",
   "nbconvert_exporter": "python",
   "pygments_lexer": "ipython3",
   "version": "3.7.3"
  }
 },
 "nbformat": 4,
 "nbformat_minor": 2
}
